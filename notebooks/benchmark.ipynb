{
 "cells": [
  {
   "cell_type": "markdown",
   "metadata": {},
   "source": [
    "### Preparação dos dados"
   ]
  },
  {
   "cell_type": "code",
   "execution_count": 1,
   "metadata": {},
   "outputs": [
    {
     "name": "stdout",
     "output_type": "stream",
     "text": [
      "Carregando dataset...\n",
      "Filtrando dataset...\n",
      "Normalizando dataset...\n",
      "Dividindo o dataset...\n"
     ]
    }
   ],
   "source": [
    "import sys\n",
    "import os\n",
    "\n",
    "# Adiciona o diretório raiz ao sys.path\n",
    "sys.path.append(os.path.abspath(os.path.join(os.getcwd(), '..')))\n",
    "\n",
    "import numpy as np\n",
    "from sklearn.datasets import fetch_openml\n",
    "from sklearn.model_selection import train_test_split\n",
    "from sklearn.preprocessing import MinMaxScaler\n",
    "from src.utils import accuracy\n",
    "\n",
    "\n",
    "# 1. Carregar o Dataset\n",
    "print(\"Carregando dataset...\")\n",
    "mnist = fetch_openml(\"mnist_784\", version=1)\n",
    "x, y = mnist.data, mnist.target\n",
    "\n",
    "# 2. Filtrar para Apenas Duas Classes (ex.: dígitos 0 e 1)\n",
    "print(\"Filtrando dataset...\")\n",
    "classes = ['3', '8']\n",
    "filter_idx = np.isin(y, classes)\n",
    "x, y = x[filter_idx], y[filter_idx]\n",
    "y = np.where(y == '3', -1, 1)  # Converte para -1 e 1\n",
    "\n",
    "# 3. Normalizar os Dados\n",
    "print(\"Normalizando dataset...\")\n",
    "scaler = MinMaxScaler()\n",
    "x = scaler.fit_transform(x)\n",
    "\n",
    "# 4. Dividir em Conjunto de Treinamento e Teste\n",
    "print(\"Dividindo o dataset...\")\n",
    "x_train, x_test, y_train, y_test = train_test_split(x, y, test_size=0.2, random_state=42)"
   ]
  },
  {
   "cell_type": "markdown",
   "metadata": {},
   "source": [
    "### Usando scikit-learn"
   ]
  },
  {
   "cell_type": "code",
   "execution_count": 4,
   "metadata": {},
   "outputs": [
    {
     "name": "stdout",
     "output_type": "stream",
     "text": [
      "Accuracy of 0.9717251252684324\n"
     ]
    }
   ],
   "source": [
    "from sklearn import svm\n",
    "\n",
    "clf = svm.SVC(C=1, kernel='linear')\n",
    "clf.fit(x_train, y_train)\n",
    "predict = clf.predict(x_test)\n",
    "\n",
    "acc = accuracy(y_test, predict)\n",
    "\n",
    "print(f\"Accuracy of {acc}\")"
   ]
  },
  {
   "cell_type": "markdown",
   "metadata": {},
   "source": [
    "### Usando minha propria implementação do SVM"
   ]
  },
  {
   "cell_type": "code",
   "execution_count": 3,
   "metadata": {},
   "outputs": [
    {
     "name": "stdout",
     "output_type": "stream",
     "text": [
      "Accuracy of 0.9674302075876879\n"
     ]
    }
   ],
   "source": [
    "from src.svm import SVM\n",
    "\n",
    "svm = SVM()\n",
    "svm.fit(x_train, y_train)\n",
    "y_pred = svm.predict(x_test)\n",
    "\n",
    "acc = accuracy(y_test, y_pred)\n",
    "print(f\"Accuracy of {acc}\")"
   ]
  }
 ],
 "metadata": {
  "kernelspec": {
   "display_name": "venv",
   "language": "python",
   "name": "python3"
  },
  "language_info": {
   "codemirror_mode": {
    "name": "ipython",
    "version": 3
   },
   "file_extension": ".py",
   "mimetype": "text/x-python",
   "name": "python",
   "nbconvert_exporter": "python",
   "pygments_lexer": "ipython3",
   "version": "3.12.3"
  }
 },
 "nbformat": 4,
 "nbformat_minor": 2
}
